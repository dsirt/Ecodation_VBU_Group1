{
 "cells": [
  {
   "cell_type": "code",
   "execution_count": 1,
   "id": "ce60c4aa",
   "metadata": {},
   "outputs": [],
   "source": [
    "#Autoencoders Anomaly Detection"
   ]
  },
  {
   "cell_type": "code",
   "execution_count": 2,
   "id": "b55b5079",
   "metadata": {},
   "outputs": [
    {
     "name": "stderr",
     "output_type": "stream",
     "text": [
      "Using TensorFlow backend.\n",
      "C:\\Users\\ITU\\AppData\\Roaming\\Python\\Python36\\site-packages\\tensorflow\\python\\framework\\dtypes.py:516: FutureWarning: Passing (type, 1) or '1type' as a synonym of type is deprecated; in a future version of numpy, it will be understood as (type, (1,)) / '(1,)type'.\n",
      "  _np_qint8 = np.dtype([(\"qint8\", np.int8, 1)])\n",
      "C:\\Users\\ITU\\AppData\\Roaming\\Python\\Python36\\site-packages\\tensorflow\\python\\framework\\dtypes.py:517: FutureWarning: Passing (type, 1) or '1type' as a synonym of type is deprecated; in a future version of numpy, it will be understood as (type, (1,)) / '(1,)type'.\n",
      "  _np_quint8 = np.dtype([(\"quint8\", np.uint8, 1)])\n",
      "C:\\Users\\ITU\\AppData\\Roaming\\Python\\Python36\\site-packages\\tensorflow\\python\\framework\\dtypes.py:518: FutureWarning: Passing (type, 1) or '1type' as a synonym of type is deprecated; in a future version of numpy, it will be understood as (type, (1,)) / '(1,)type'.\n",
      "  _np_qint16 = np.dtype([(\"qint16\", np.int16, 1)])\n",
      "C:\\Users\\ITU\\AppData\\Roaming\\Python\\Python36\\site-packages\\tensorflow\\python\\framework\\dtypes.py:519: FutureWarning: Passing (type, 1) or '1type' as a synonym of type is deprecated; in a future version of numpy, it will be understood as (type, (1,)) / '(1,)type'.\n",
      "  _np_quint16 = np.dtype([(\"quint16\", np.uint16, 1)])\n",
      "C:\\Users\\ITU\\AppData\\Roaming\\Python\\Python36\\site-packages\\tensorflow\\python\\framework\\dtypes.py:520: FutureWarning: Passing (type, 1) or '1type' as a synonym of type is deprecated; in a future version of numpy, it will be understood as (type, (1,)) / '(1,)type'.\n",
      "  _np_qint32 = np.dtype([(\"qint32\", np.int32, 1)])\n",
      "C:\\Users\\ITU\\AppData\\Roaming\\Python\\Python36\\site-packages\\tensorflow\\python\\framework\\dtypes.py:525: FutureWarning: Passing (type, 1) or '1type' as a synonym of type is deprecated; in a future version of numpy, it will be understood as (type, (1,)) / '(1,)type'.\n",
      "  np_resource = np.dtype([(\"resource\", np.ubyte, 1)])\n"
     ]
    }
   ],
   "source": [
    "import pandas as pd\n",
    "import numpy as np\n",
    "import matplotlib.pyplot as plt\n",
    "from keras.layers import Input, Dense\n",
    "from keras.models import Model"
   ]
  },
  {
   "cell_type": "code",
   "execution_count": 4,
   "id": "b70ccb6e",
   "metadata": {},
   "outputs": [
    {
     "data": {
      "text/html": [
       "<div>\n",
       "<style scoped>\n",
       "    .dataframe tbody tr th:only-of-type {\n",
       "        vertical-align: middle;\n",
       "    }\n",
       "\n",
       "    .dataframe tbody tr th {\n",
       "        vertical-align: top;\n",
       "    }\n",
       "\n",
       "    .dataframe thead th {\n",
       "        text-align: right;\n",
       "    }\n",
       "</style>\n",
       "<table border=\"1\" class=\"dataframe\">\n",
       "  <thead>\n",
       "    <tr style=\"text-align: right;\">\n",
       "      <th></th>\n",
       "      <th>Age_of_patient</th>\n",
       "      <th>year_of_operation</th>\n",
       "      <th>positive_axillary_nodes</th>\n",
       "      <th>Survival_status</th>\n",
       "    </tr>\n",
       "  </thead>\n",
       "  <tbody>\n",
       "    <tr>\n",
       "      <th>0</th>\n",
       "      <td>30</td>\n",
       "      <td>64</td>\n",
       "      <td>1</td>\n",
       "      <td>1</td>\n",
       "    </tr>\n",
       "    <tr>\n",
       "      <th>1</th>\n",
       "      <td>30</td>\n",
       "      <td>62</td>\n",
       "      <td>3</td>\n",
       "      <td>1</td>\n",
       "    </tr>\n",
       "    <tr>\n",
       "      <th>2</th>\n",
       "      <td>30</td>\n",
       "      <td>65</td>\n",
       "      <td>0</td>\n",
       "      <td>1</td>\n",
       "    </tr>\n",
       "    <tr>\n",
       "      <th>3</th>\n",
       "      <td>31</td>\n",
       "      <td>59</td>\n",
       "      <td>2</td>\n",
       "      <td>1</td>\n",
       "    </tr>\n",
       "    <tr>\n",
       "      <th>4</th>\n",
       "      <td>31</td>\n",
       "      <td>65</td>\n",
       "      <td>4</td>\n",
       "      <td>1</td>\n",
       "    </tr>\n",
       "    <tr>\n",
       "      <th>5</th>\n",
       "      <td>33</td>\n",
       "      <td>58</td>\n",
       "      <td>10</td>\n",
       "      <td>1</td>\n",
       "    </tr>\n",
       "    <tr>\n",
       "      <th>6</th>\n",
       "      <td>33</td>\n",
       "      <td>60</td>\n",
       "      <td>0</td>\n",
       "      <td>1</td>\n",
       "    </tr>\n",
       "    <tr>\n",
       "      <th>7</th>\n",
       "      <td>34</td>\n",
       "      <td>59</td>\n",
       "      <td>0</td>\n",
       "      <td>2</td>\n",
       "    </tr>\n",
       "    <tr>\n",
       "      <th>8</th>\n",
       "      <td>34</td>\n",
       "      <td>66</td>\n",
       "      <td>9</td>\n",
       "      <td>2</td>\n",
       "    </tr>\n",
       "    <tr>\n",
       "      <th>9</th>\n",
       "      <td>34</td>\n",
       "      <td>60</td>\n",
       "      <td>1</td>\n",
       "      <td>1</td>\n",
       "    </tr>\n",
       "  </tbody>\n",
       "</table>\n",
       "</div>"
      ],
      "text/plain": [
       "   Age_of_patient  year_of_operation  positive_axillary_nodes  Survival_status\n",
       "0              30                 64                        1                1\n",
       "1              30                 62                        3                1\n",
       "2              30                 65                        0                1\n",
       "3              31                 59                        2                1\n",
       "4              31                 65                        4                1\n",
       "5              33                 58                       10                1\n",
       "6              33                 60                        0                1\n",
       "7              34                 59                        0                2\n",
       "8              34                 66                        9                2\n",
       "9              34                 60                        1                1"
      ]
     },
     "execution_count": 4,
     "metadata": {},
     "output_type": "execute_result"
    }
   ],
   "source": [
    "data = pd.read_csv('data/haberman_yeni.csv')\n",
    "data.head(10)"
   ]
  },
  {
   "cell_type": "code",
   "execution_count": 5,
   "id": "3e8335e1",
   "metadata": {},
   "outputs": [
    {
     "name": "stdout",
     "output_type": "stream",
     "text": [
      "(299, 4)\n"
     ]
    }
   ],
   "source": [
    "print(data.shape)"
   ]
  },
  {
   "cell_type": "code",
   "execution_count": 6,
   "id": "907c2f83",
   "metadata": {},
   "outputs": [],
   "source": [
    "X = data.drop(\"Survival_status\", axis = 1)\n",
    "y = data[\"Survival_status\"]"
   ]
  },
  {
   "cell_type": "code",
   "execution_count": 8,
   "id": "f6cbc1e7",
   "metadata": {},
   "outputs": [],
   "source": [
    "#Normalizasyon\n",
    "from sklearn.preprocessing import MinMaxScaler\n",
    "op = MinMaxScaler(feature_range=(0, 1))\n",
    "X = op.fit_transform(X)"
   ]
  },
  {
   "cell_type": "code",
   "execution_count": 9,
   "id": "6c039151",
   "metadata": {},
   "outputs": [
    {
     "name": "stdout",
     "output_type": "stream",
     "text": [
      "3\n"
     ]
    }
   ],
   "source": [
    "print(X.shape[1])"
   ]
  },
  {
   "cell_type": "code",
   "execution_count": 17,
   "id": "588902cd",
   "metadata": {},
   "outputs": [],
   "source": [
    "#Model Mimarisinin Oluşturulması\n",
    "oznitelik_sayisi = X.shape[1]\n",
    "girislerin_boyutu = Input(shape = (oznitelik_sayisi,))\n",
    "\n",
    "darbogaz_boyutu = 2 #darboğaz nöron sayısı\n",
    "\n",
    "#Encoder\n",
    "kodlayici = Dense(3, activation = 'relu')(girislerin_boyutu)\n",
    "kodlayici = Dense(3, activation = 'relu')(girislerin_boyutu)\n",
    "\n",
    "#Darboğazın tanımlanması\n",
    "kodlayici = Dense(darbogaz_boyutu, activation = 'relu')(kodlayici)\n",
    "\n",
    "#Decoder\n",
    "kod_cozucu = Dense(3, activation = 'relu')(kodlayici)\n",
    "kod_cozucu = Dense(oznitelik_sayisi, activation = 'sigmoid')(kodlayici)\n",
    "\n",
    "otokodlayici = Model(inputs = girislerin_boyutu, outputs = kod_cozucu)"
   ]
  },
  {
   "cell_type": "code",
   "execution_count": 18,
   "id": "a13b9cdf",
   "metadata": {},
   "outputs": [
    {
     "data": {
      "image/png": "[encoded data removed]",
      "text/plain": [
       "<IPython.core.display.Image object>"
      ]
     },
     "execution_count": 18,
     "metadata": {},
     "output_type": "execute_result"
    }
   ],
   "source": [
    "import tensorflow as tf\n",
    "tf.keras.utils.plot_model(otokodlayici, \"haberman1412.png\", show_shapes = True, show_layer_names = True)"
   ]
  },
  {
   "cell_type": "code",
   "execution_count": 19,
   "id": "f5caa645",
   "metadata": {},
   "outputs": [],
   "source": [
    "otokodlayici.compile(\n",
    "        loss = 'mse',\n",
    "        optimizer = 'adam')"
   ]
  },
  {
   "cell_type": "code",
   "execution_count": 20,
   "id": "8ac8c458",
   "metadata": {},
   "outputs": [
    {
     "name": "stdout",
     "output_type": "stream",
     "text": [
      "WARNING:tensorflow:From C:\\Users\\ITU\\anaconda3\\envs\\tf\\lib\\site-packages\\keras\\backend\\tensorflow_backend.py:422: The name tf.global_variables is deprecated. Please use tf.compat.v1.global_variables instead.\n",
      "\n",
      "Train on 239 samples, validate on 60 samples\n",
      "Epoch 1/100\n",
      " - 1s - loss: 0.0981 - val_loss: 0.1297\n",
      "Epoch 2/100\n",
      " - 0s - loss: 0.0951 - val_loss: 0.1283\n",
      "Epoch 3/100\n",
      " - 0s - loss: 0.0921 - val_loss: 0.1269\n",
      "Epoch 4/100\n",
      " - 0s - loss: 0.0888 - val_loss: 0.1252\n",
      "Epoch 5/100\n",
      " - 0s - loss: 0.0855 - val_loss: 0.1234\n",
      "Epoch 6/100\n",
      " - 0s - loss: 0.0821 - val_loss: 0.1211\n",
      "Epoch 7/100\n",
      " - 0s - loss: 0.0784 - val_loss: 0.1187\n",
      "Epoch 8/100\n",
      " - 0s - loss: 0.0746 - val_loss: 0.1160\n",
      "Epoch 9/100\n",
      " - 0s - loss: 0.0708 - val_loss: 0.1129\n",
      "Epoch 10/100\n",
      " - 0s - loss: 0.0669 - val_loss: 0.1091\n",
      "Epoch 11/100\n",
      " - 0s - loss: 0.0630 - val_loss: 0.1052\n",
      "Epoch 12/100\n",
      " - 0s - loss: 0.0593 - val_loss: 0.1008\n",
      "Epoch 13/100\n",
      " - 0s - loss: 0.0556 - val_loss: 0.0966\n",
      "Epoch 14/100\n",
      " - 0s - loss: 0.0521 - val_loss: 0.0937\n",
      "Epoch 15/100\n",
      " - 0s - loss: 0.0489 - val_loss: 0.0902\n",
      "Epoch 16/100\n",
      " - 0s - loss: 0.0458 - val_loss: 0.0862\n",
      "Epoch 17/100\n",
      " - 0s - loss: 0.0430 - val_loss: 0.0842\n",
      "Epoch 18/100\n",
      " - 0s - loss: 0.0406 - val_loss: 0.0806\n",
      "Epoch 19/100\n",
      " - 0s - loss: 0.0384 - val_loss: 0.0792\n",
      "Epoch 20/100\n",
      " - 0s - loss: 0.0364 - val_loss: 0.0760\n",
      "Epoch 21/100\n",
      " - 0s - loss: 0.0348 - val_loss: 0.0749\n",
      "Epoch 22/100\n",
      " - 0s - loss: 0.0332 - val_loss: 0.0736\n",
      "Epoch 23/100\n",
      " - 0s - loss: 0.0319 - val_loss: 0.0713\n",
      "Epoch 24/100\n",
      " - 0s - loss: 0.0307 - val_loss: 0.0702\n",
      "Epoch 25/100\n",
      " - 0s - loss: 0.0296 - val_loss: 0.0696\n",
      "Epoch 26/100\n",
      " - 0s - loss: 0.0286 - val_loss: 0.0685\n",
      "Epoch 27/100\n",
      " - 0s - loss: 0.0278 - val_loss: 0.0667\n",
      "Epoch 28/100\n",
      " - 0s - loss: 0.0270 - val_loss: 0.0672\n",
      "Epoch 29/100\n",
      " - 0s - loss: 0.0262 - val_loss: 0.0657\n",
      "Epoch 30/100\n",
      " - 0s - loss: 0.0255 - val_loss: 0.0653\n",
      "Epoch 31/100\n",
      " - 0s - loss: 0.0249 - val_loss: 0.0640\n",
      "Epoch 32/100\n",
      " - 0s - loss: 0.0243 - val_loss: 0.0644\n",
      "Epoch 33/100\n",
      " - 0s - loss: 0.0238 - val_loss: 0.0637\n",
      "Epoch 34/100\n",
      " - 0s - loss: 0.0233 - val_loss: 0.0631\n",
      "Epoch 35/100\n",
      " - 0s - loss: 0.0228 - val_loss: 0.0626\n",
      "Epoch 36/100\n",
      " - 0s - loss: 0.0224 - val_loss: 0.0611\n",
      "Epoch 37/100\n",
      " - 0s - loss: 0.0220 - val_loss: 0.0613\n",
      "Epoch 38/100\n",
      " - 0s - loss: 0.0216 - val_loss: 0.0605\n",
      "Epoch 39/100\n",
      " - 0s - loss: 0.0212 - val_loss: 0.0605\n",
      "Epoch 40/100\n",
      " - 0s - loss: 0.0209 - val_loss: 0.0601\n",
      "Epoch 41/100\n",
      " - 0s - loss: 0.0206 - val_loss: 0.0592\n",
      "Epoch 42/100\n",
      " - 0s - loss: 0.0203 - val_loss: 0.0592\n",
      "Epoch 43/100\n",
      " - 0s - loss: 0.0201 - val_loss: 0.0596\n",
      "Epoch 44/100\n",
      " - 0s - loss: 0.0198 - val_loss: 0.0595\n",
      "Epoch 45/100\n",
      " - 0s - loss: 0.0196 - val_loss: 0.0589\n",
      "Epoch 46/100\n",
      " - 0s - loss: 0.0194 - val_loss: 0.0572\n",
      "Epoch 47/100\n",
      " - 0s - loss: 0.0192 - val_loss: 0.0571\n",
      "Epoch 48/100\n",
      " - 0s - loss: 0.0190 - val_loss: 0.0580\n",
      "Epoch 49/100\n",
      " - 0s - loss: 0.0188 - val_loss: 0.0575\n",
      "Epoch 50/100\n",
      " - 0s - loss: 0.0186 - val_loss: 0.0571\n",
      "Epoch 51/100\n",
      " - 0s - loss: 0.0185 - val_loss: 0.0564\n",
      "Epoch 52/100\n",
      " - 0s - loss: 0.0183 - val_loss: 0.0565\n",
      "Epoch 53/100\n",
      " - 0s - loss: 0.0182 - val_loss: 0.0556\n",
      "Epoch 54/100\n",
      " - 0s - loss: 0.0180 - val_loss: 0.0553\n",
      "Epoch 55/100\n",
      " - 0s - loss: 0.0179 - val_loss: 0.0561\n",
      "Epoch 56/100\n",
      " - 0s - loss: 0.0178 - val_loss: 0.0556\n",
      "Epoch 57/100\n",
      " - 0s - loss: 0.0177 - val_loss: 0.0550\n",
      "Epoch 58/100\n",
      " - 0s - loss: 0.0175 - val_loss: 0.0548\n",
      "Epoch 59/100\n",
      " - 0s - loss: 0.0174 - val_loss: 0.0555\n",
      "Epoch 60/100\n",
      " - 0s - loss: 0.0173 - val_loss: 0.0545\n",
      "Epoch 61/100\n",
      " - 0s - loss: 0.0172 - val_loss: 0.0541\n",
      "Epoch 62/100\n",
      " - 0s - loss: 0.0171 - val_loss: 0.0538\n",
      "Epoch 63/100\n",
      " - 0s - loss: 0.0170 - val_loss: 0.0540\n",
      "Epoch 64/100\n",
      " - 0s - loss: 0.0169 - val_loss: 0.0533\n",
      "Epoch 65/100\n",
      " - 0s - loss: 0.0168 - val_loss: 0.0533\n",
      "Epoch 66/100\n",
      " - 0s - loss: 0.0168 - val_loss: 0.0528\n",
      "Epoch 67/100\n",
      " - 0s - loss: 0.0167 - val_loss: 0.0533\n",
      "Epoch 68/100\n",
      " - 0s - loss: 0.0166 - val_loss: 0.0527\n",
      "Epoch 69/100\n",
      " - 0s - loss: 0.0165 - val_loss: 0.0528\n",
      "Epoch 70/100\n",
      " - 0s - loss: 0.0164 - val_loss: 0.0530\n",
      "Epoch 71/100\n",
      " - 0s - loss: 0.0163 - val_loss: 0.0512\n",
      "Epoch 72/100\n",
      " - 0s - loss: 0.0162 - val_loss: 0.0512\n",
      "Epoch 73/100\n",
      " - 0s - loss: 0.0162 - val_loss: 0.0522\n",
      "Epoch 74/100\n",
      " - 0s - loss: 0.0161 - val_loss: 0.0522\n",
      "Epoch 75/100\n",
      " - 0s - loss: 0.0160 - val_loss: 0.0512\n",
      "Epoch 76/100\n",
      " - 0s - loss: 0.0159 - val_loss: 0.0510\n",
      "Epoch 77/100\n",
      " - 0s - loss: 0.0158 - val_loss: 0.0509\n",
      "Epoch 78/100\n",
      " - 0s - loss: 0.0158 - val_loss: 0.0510\n",
      "Epoch 79/100\n",
      " - 0s - loss: 0.0157 - val_loss: 0.0505\n",
      "Epoch 80/100\n",
      " - 0s - loss: 0.0156 - val_loss: 0.0500\n",
      "Epoch 81/100\n",
      " - 0s - loss: 0.0156 - val_loss: 0.0493\n",
      "Epoch 82/100\n",
      " - 0s - loss: 0.0155 - val_loss: 0.0495\n",
      "Epoch 83/100\n",
      " - 0s - loss: 0.0154 - val_loss: 0.0489\n",
      "Epoch 84/100\n",
      " - 0s - loss: 0.0153 - val_loss: 0.0492\n",
      "Epoch 85/100\n",
      " - 0s - loss: 0.0153 - val_loss: 0.0489\n",
      "Epoch 86/100\n",
      " - 0s - loss: 0.0152 - val_loss: 0.0488\n",
      "Epoch 87/100\n",
      " - 0s - loss: 0.0151 - val_loss: 0.0488\n",
      "Epoch 88/100\n",
      " - 0s - loss: 0.0151 - val_loss: 0.0487\n",
      "Epoch 89/100\n",
      " - 0s - loss: 0.0150 - val_loss: 0.0483\n",
      "Epoch 90/100\n",
      " - 0s - loss: 0.0149 - val_loss: 0.0486\n",
      "Epoch 91/100\n",
      " - 0s - loss: 0.0149 - val_loss: 0.0481\n",
      "Epoch 92/100\n",
      " - 0s - loss: 0.0148 - val_loss: 0.0478\n",
      "Epoch 93/100\n",
      " - 0s - loss: 0.0147 - val_loss: 0.0467\n",
      "Epoch 94/100\n",
      " - 0s - loss: 0.0147 - val_loss: 0.0466\n",
      "Epoch 95/100\n",
      " - 0s - loss: 0.0146 - val_loss: 0.0470\n",
      "Epoch 96/100\n",
      " - 0s - loss: 0.0145 - val_loss: 0.0469\n",
      "Epoch 97/100\n",
      " - 0s - loss: 0.0145 - val_loss: 0.0467\n",
      "Epoch 98/100\n",
      " - 0s - loss: 0.0144 - val_loss: 0.0469\n",
      "Epoch 99/100\n",
      " - 0s - loss: 0.0143 - val_loss: 0.0461\n",
      "Epoch 100/100\n",
      " - 0s - loss: 0.0143 - val_loss: 0.0457\n"
     ]
    }
   ],
   "source": [
    "history = otokodlayici.fit(\n",
    "            X,\n",
    "            X,\n",
    "            epochs = 100,\n",
    "            batch_size = 16,\n",
    "            verbose = 2,\n",
    "            validation_split = 0.2\n",
    ")"
   ]
  },
  {
   "cell_type": "code",
   "execution_count": 21,
   "id": "27d4f272",
   "metadata": {},
   "outputs": [
    {
     "data": {
      "image/png": "[encoded data removed]",
      "text/plain": [
       "<Figure size 432x288 with 1 Axes>"
      ]
     },
     "metadata": {
      "needs_background": "light"
     },
     "output_type": "display_data"
    }
   ],
   "source": [
    "plt.plot(history.history[\"loss\"], \"--\")\n",
    "plt.plot(history.history[\"val_loss\"])\n",
    "plt.title(\"Otokodlayıcı modelde eğitim hatası\")\n",
    "plt.xlabel('Devir sayısı')\n",
    "plt.ylabel('Hatalar')\n",
    "plt.legend([\"Eğitim hatası\", \"Doğrulama Hatası\"], loc = \"upper right\")\n",
    "plt.show()"
   ]
  },
  {
   "cell_type": "code",
   "execution_count": 22,
   "id": "53b997c7",
   "metadata": {},
   "outputs": [
    {
     "data": {
      "image/png": "[encoded data removed]",
      "text/plain": [
       "<Figure size 432x288 with 1 Axes>"
      ]
     },
     "metadata": {
      "needs_background": "light"
     },
     "output_type": "display_data"
    }
   ],
   "source": [
    "preds = otokodlayici.predict(X)\n",
    "mse = np.mean(np.power(X - preds, 2), axis = 1)\n",
    "\n",
    "plt.plot(mse, linewidth = 0, label = 'Eğitim', marker = \".\")\n",
    "plt.title(\"Yeniden yapılandırma hataları\")\n",
    "plt.ylabel(\"mse\")\n",
    "plt.xlabel(\"Gözlemler\")\n",
    "plt.show()"
   ]
  },
  {
   "cell_type": "code",
   "execution_count": 23,
   "id": "9ec7389f",
   "metadata": {},
   "outputs": [
    {
     "name": "stdout",
     "output_type": "stream",
     "text": [
      "\n",
      " Eşik değeri giriniz :\n",
      "\n",
      "0.11\n"
     ]
    }
   ],
   "source": [
    "#mse = 0.11\n",
    "print(\"\\n Eşik değeri giriniz :\\n\")\n",
    "thold = float(input())"
   ]
  },
  {
   "cell_type": "code",
   "execution_count": 24,
   "id": "69b93cc7",
   "metadata": {},
   "outputs": [
    {
     "data": {
      "image/png": "[encoded data removed]",
      "text/plain": [
       "<Figure size 432x288 with 1 Axes>"
      ]
     },
     "metadata": {
      "needs_background": "light"
     },
     "output_type": "display_data"
    }
   ],
   "source": [
    "plt.plot(mse, linewidth = 0, label = \"Eğitim\", marker = \".\")\n",
    "plt.title(\"Yeniden yapılandırma hataları\")\n",
    "plt.ylabel(\"mse\")\n",
    "plt.xlabel(\"Gözlemler\")\n",
    "plt.axhline(y = thold, color = 'r')\n",
    "plt.show()"
   ]
  },
  {
   "cell_type": "code",
   "execution_count": 25,
   "id": "3c80f2cf",
   "metadata": {},
   "outputs": [
    {
     "name": "stdout",
     "output_type": "stream",
     "text": [
      "Anormal değerlerin sayısı (2, 4)\n"
     ]
    }
   ],
   "source": [
    "anormal = pd.DataFrame(data[mse > thold])\n",
    "print(\"Anormal değerlerin sayısı\", anormal.shape)"
   ]
  },
  {
   "cell_type": "code",
   "execution_count": 26,
   "id": "ff7fa5dd",
   "metadata": {},
   "outputs": [
    {
     "name": "stdout",
     "output_type": "stream",
     "text": [
      "Anormal Değerler: \n",
      "      Age_of_patient  year_of_operation  positive_axillary_nodes  \\\n",
      "172              54                 67                       46   \n",
      "213              59                 62                       35   \n",
      "\n",
      "     Survival_status  \n",
      "172                1  \n",
      "213                2  \n"
     ]
    }
   ],
   "source": [
    "print(\"Anormal Değerler: \\n\", anormal)"
   ]
  },
  {
   "cell_type": "code",
   "execution_count": 29,
   "id": "743d79af",
   "metadata": {},
   "outputs": [
    {
     "name": "stdout",
     "output_type": "stream",
     "text": [
      "Önceki Veri : (299, 4)\n"
     ]
    }
   ],
   "source": [
    "anormal_yok = pd.DataFrame(data[mse <= thold])\n",
    "print(\"Önceki Veri :\", data.shape)"
   ]
  },
  {
   "cell_type": "code",
   "execution_count": 28,
   "id": "a08d951d",
   "metadata": {},
   "outputs": [
    {
     "name": "stdout",
     "output_type": "stream",
     "text": [
      "Yeni veri : (297, 4)\n"
     ]
    }
   ],
   "source": [
    "print(\"Yeni veri :\", anormal_yok.shape)"
   ]
  },
  {
   "cell_type": "code",
   "execution_count": 30,
   "id": "543d6eee",
   "metadata": {},
   "outputs": [],
   "source": [
    "output = pd.DataFrame(anormal_yok)\n",
    "output.to_csv(\"haberman_anormalsiz.csv\", index = False)"
   ]
  },
  {
   "cell_type": "code",
   "execution_count": null,
   "id": "210eacf7",
   "metadata": {},
   "outputs": [],
   "source": []
  }
 ],
 "metadata": {
  "kernelspec": {
   "display_name": "Python 3",
   "language": "python",
   "name": "python3"
  },
  "language_info": {
   "codemirror_mode": {
    "name": "ipython",
    "version": 3
   },
   "file_extension": ".py",
   "mimetype": "text/x-python",
   "name": "python",
   "nbconvert_exporter": "python",
   "pygments_lexer": "ipython3",
   "version": "3.6.13"
  }
 },
 "nbformat": 4,
 "nbformat_minor": 5
}
