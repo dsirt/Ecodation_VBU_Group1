{
 "cells": [
  {
   "cell_type": "code",
   "execution_count": 1,
   "id": "f5cfa0c1",
   "metadata": {},
   "outputs": [],
   "source": [
    "#Üçgen matris"
   ]
  },
  {
   "cell_type": "code",
   "execution_count": 2,
   "id": "1b58363a",
   "metadata": {},
   "outputs": [],
   "source": [
    "import numpy as np"
   ]
  },
  {
   "cell_type": "code",
   "execution_count": 3,
   "id": "7902d63a",
   "metadata": {},
   "outputs": [
    {
     "name": "stdout",
     "output_type": "stream",
     "text": [
      "[[ 1.1897066  -0.96438604  1.6842032  -0.44618122  0.85437834]\n",
      " [-0.50248047  2.10558763 -0.03495925  0.05752484  0.57766178]\n",
      " [-0.63862144 -1.52604338  0.10487308 -1.99624433  1.05689187]\n",
      " [ 0.39760564 -1.34439072  0.55925141 -0.91030377  0.5835274 ]\n",
      " [ 0.65234474  0.16193125 -0.35887776 -1.64854163 -1.09351388]]\n",
      "\n",
      "\n",
      "Upper triangular matrix - \n",
      " [[ 1.1897066  -0.96438604  1.6842032  -0.44618122  0.85437834]\n",
      " [ 0.          2.10558763 -0.03495925  0.05752484  0.57766178]\n",
      " [ 0.          0.          0.10487308 -1.99624433  1.05689187]\n",
      " [ 0.          0.          0.         -0.91030377  0.5835274 ]\n",
      " [ 0.          0.          0.          0.         -1.09351388]]\n",
      "\n",
      "\n",
      "Lower traingular matrix - \n",
      " [[ 1.1897066   0.          0.          0.          0.        ]\n",
      " [-0.50248047  2.10558763  0.          0.          0.        ]\n",
      " [-0.63862144 -1.52604338  0.10487308  0.          0.        ]\n",
      " [ 0.39760564 -1.34439072  0.55925141 -0.91030377  0.        ]\n",
      " [ 0.65234474  0.16193125 -0.35887776 -1.64854163 -1.09351388]]\n"
     ]
    }
   ],
   "source": [
    "M = np.random.randn(5, 5)\n",
    "print(M)\n",
    "print(\"\\n\")\n",
    "\n",
    "U = np.triu(M)\n",
    "print(\"Upper triangular matrix - \\n\", U)\n",
    "print(\"\\n\")\n",
    "L = np.tril(M)\n",
    "print(\"Lower traingular matrix - \\n\", L)"
   ]
  },
  {
   "cell_type": "code",
   "execution_count": 4,
   "id": "2f65a394",
   "metadata": {},
   "outputs": [],
   "source": [
    "#SWAP Satır / Sütun"
   ]
  },
  {
   "cell_type": "code",
   "execution_count": 5,
   "id": "3851b2fd",
   "metadata": {},
   "outputs": [
    {
     "data": {
      "text/plain": [
       "array([[ 0,  1,  2,  3],\n",
       "       [ 4,  5,  6,  7],\n",
       "       [ 8,  9, 10, 11],\n",
       "       [12, 13, 14, 15]])"
      ]
     },
     "execution_count": 5,
     "metadata": {},
     "output_type": "execute_result"
    }
   ],
   "source": [
    "m1 = np.arange(0, 16).reshape(4,4)\n",
    "m1"
   ]
  },
  {
   "cell_type": "code",
   "execution_count": 6,
   "id": "735ba32b",
   "metadata": {},
   "outputs": [
    {
     "data": {
      "text/plain": [
       "array([[ 0,  1,  2,  3],\n",
       "       [ 4,  5,  6,  7],\n",
       "       [12, 13, 14, 15],\n",
       "       [ 8,  9, 10, 11]])"
      ]
     },
     "execution_count": 6,
     "metadata": {},
     "output_type": "execute_result"
    }
   ],
   "source": [
    "m1[[3,2]] = m1[[2,3]]\n",
    "m1"
   ]
  },
  {
   "cell_type": "code",
   "execution_count": 7,
   "id": "1b5fa33a",
   "metadata": {},
   "outputs": [
    {
     "data": {
      "text/plain": [
       "array([[ 0,  1,  2,  3,  4,  5],\n",
       "       [ 6,  7,  8,  9, 10, 11],\n",
       "       [12, 13, 14, 15, 16, 17],\n",
       "       [18, 19, 20, 21, 22, 23],\n",
       "       [24, 25, 26, 27, 28, 29],\n",
       "       [30, 31, 32, 33, 34, 35]])"
      ]
     },
     "execution_count": 7,
     "metadata": {},
     "output_type": "execute_result"
    }
   ],
   "source": [
    "m2 = np.arange(0, 36).reshape(6,6)\n",
    "m2"
   ]
  },
  {
   "cell_type": "code",
   "execution_count": 8,
   "id": "6628ebd4",
   "metadata": {},
   "outputs": [
    {
     "data": {
      "text/plain": [
       "array([[ 0,  1,  3,  2,  4,  5],\n",
       "       [ 6,  7,  9,  8, 10, 11],\n",
       "       [12, 13, 15, 14, 16, 17],\n",
       "       [18, 19, 21, 20, 22, 23],\n",
       "       [24, 25, 27, 26, 28, 29],\n",
       "       [30, 31, 33, 32, 34, 35]])"
      ]
     },
     "execution_count": 8,
     "metadata": {},
     "output_type": "execute_result"
    }
   ],
   "source": [
    "m2[:, [2,3]] = m2[:, [3,2]]\n",
    "m2"
   ]
  },
  {
   "cell_type": "code",
   "execution_count": 9,
   "id": "3750fdb0",
   "metadata": {},
   "outputs": [
    {
     "name": "stdout",
     "output_type": "stream",
     "text": [
      "[[ 1  2  3]\n",
      " [ 4 -3  6]\n",
      " [ 7  8  0]]\n",
      "[[ 1  4  7]\n",
      " [ 2 -3  8]\n",
      " [ 3  6  0]]\n",
      "[[ 1  4  7]\n",
      " [ 2 -3  8]\n",
      " [ 3  6  0]]\n"
     ]
    }
   ],
   "source": [
    "#Transpose\n",
    "M = np.array([[1,2,3], [4, -3, 6], [7, 8, 0]])\n",
    "\n",
    "print(M)\n",
    "\n",
    "print(np.transpose(M))\n",
    "\n",
    "#OR\n",
    "\n",
    "print(M.T)"
   ]
  },
  {
   "cell_type": "code",
   "execution_count": 10,
   "id": "a2018de4",
   "metadata": {},
   "outputs": [
    {
     "name": "stdout",
     "output_type": "stream",
     "text": [
      "195.0\n"
     ]
    }
   ],
   "source": [
    "print(np.linalg.det(M))"
   ]
  },
  {
   "cell_type": "code",
   "execution_count": 11,
   "id": "be9f2926",
   "metadata": {},
   "outputs": [
    {
     "name": "stdout",
     "output_type": "stream",
     "text": [
      "3\n"
     ]
    }
   ],
   "source": [
    "print(np.linalg.matrix_rank(M))"
   ]
  },
  {
   "cell_type": "code",
   "execution_count": 12,
   "id": "7bd46041",
   "metadata": {},
   "outputs": [
    {
     "name": "stdout",
     "output_type": "stream",
     "text": [
      "[[-0.24615385  0.12307692  0.10769231]\n",
      " [ 0.21538462 -0.10769231  0.03076923]\n",
      " [ 0.27179487  0.03076923 -0.05641026]]\n"
     ]
    }
   ],
   "source": [
    "print(np.linalg.inv(M))"
   ]
  },
  {
   "cell_type": "code",
   "execution_count": 13,
   "id": "ead05813",
   "metadata": {},
   "outputs": [],
   "source": [
    "#Matrisin kuvvetini alma"
   ]
  },
  {
   "cell_type": "code",
   "execution_count": 14,
   "id": "692cafe7",
   "metadata": {},
   "outputs": [
    {
     "data": {
      "text/plain": [
       "array([[1, 2],\n",
       "       [4, 5]])"
      ]
     },
     "execution_count": 14,
     "metadata": {},
     "output_type": "execute_result"
    }
   ],
   "source": [
    "M1 = np.array([[1,2], [4,5]])\n",
    "M1"
   ]
  },
  {
   "cell_type": "code",
   "execution_count": 15,
   "id": "6c919d1c",
   "metadata": {},
   "outputs": [
    {
     "data": {
      "text/plain": [
       "array([[ 57,  78],\n",
       "       [156, 213]])"
      ]
     },
     "execution_count": 15,
     "metadata": {},
     "output_type": "execute_result"
    }
   ],
   "source": [
    "M1@M1@M1"
   ]
  },
  {
   "cell_type": "code",
   "execution_count": 16,
   "id": "7773f0a7",
   "metadata": {},
   "outputs": [
    {
     "data": {
      "text/plain": [
       "array([[ 57,  78],\n",
       "       [156, 213]])"
      ]
     },
     "execution_count": 16,
     "metadata": {},
     "output_type": "execute_result"
    }
   ],
   "source": [
    "np.linalg.matrix_power(M1, 3)"
   ]
  },
  {
   "cell_type": "code",
   "execution_count": 17,
   "id": "ae445af0",
   "metadata": {},
   "outputs": [],
   "source": [
    "#Tensörler"
   ]
  },
  {
   "cell_type": "code",
   "execution_count": 18,
   "id": "6dcd1e8e",
   "metadata": {},
   "outputs": [
    {
     "data": {
      "text/plain": [
       "array([[[  1,   2,   3],\n",
       "        [  4,   5,   6],\n",
       "        [  7,   8,   9]],\n",
       "\n",
       "       [[ 10,  20,  30],\n",
       "        [ 40,  50,  60],\n",
       "        [ 70,  80,  90]],\n",
       "\n",
       "       [[100, 200, 300],\n",
       "        [400, 500, 600],\n",
       "        [700, 800, 900]]])"
      ]
     },
     "execution_count": 18,
     "metadata": {},
     "output_type": "execute_result"
    }
   ],
   "source": [
    "T1 = np.array([\n",
    "    [[1, 2, 3], [4, 5, 6], [7, 8, 9]],\n",
    "    [[10, 20, 30], [40, 50, 60], [70, 80, 90]],\n",
    "    [[100, 200, 300], [400, 500, 600], [700, 800, 900]],\n",
    "    ])\n",
    "\n",
    "T1"
   ]
  },
  {
   "cell_type": "code",
   "execution_count": 19,
   "id": "9e22e742",
   "metadata": {},
   "outputs": [
    {
     "data": {
      "text/plain": [
       "array([[[0, 0, 0],\n",
       "        [0, 0, 0],\n",
       "        [0, 0, 0]],\n",
       "\n",
       "       [[1, 1, 1],\n",
       "        [1, 1, 1],\n",
       "        [1, 1, 1]],\n",
       "\n",
       "       [[2, 2, 2],\n",
       "        [2, 2, 2],\n",
       "        [2, 2, 2]]])"
      ]
     },
     "execution_count": 19,
     "metadata": {},
     "output_type": "execute_result"
    }
   ],
   "source": [
    "T2 = np.array([\n",
    "    [[0, 0, 0], [0, 0, 0], [0, 0, 0]],\n",
    "    [[1, 1, 1], [1, 1, 1], [1, 1, 1]],\n",
    "    [[2, 2, 2], [2, 2, 2], [2, 2, 2]],\n",
    "    ])\n",
    "\n",
    "T2"
   ]
  },
  {
   "cell_type": "code",
   "execution_count": 20,
   "id": "b36e91ce",
   "metadata": {},
   "outputs": [
    {
     "data": {
      "text/plain": [
       "array([[[  1,   2,   3],\n",
       "        [  4,   5,   6],\n",
       "        [  7,   8,   9]],\n",
       "\n",
       "       [[ 11,  21,  31],\n",
       "        [ 41,  51,  61],\n",
       "        [ 71,  81,  91]],\n",
       "\n",
       "       [[102, 202, 302],\n",
       "        [402, 502, 602],\n",
       "        [702, 802, 902]]])"
      ]
     },
     "execution_count": 20,
     "metadata": {},
     "output_type": "execute_result"
    }
   ],
   "source": [
    "A = T1 + T2\n",
    "A\n",
    "#OR\n",
    "\n",
    "np.add(T1, T2)"
   ]
  },
  {
   "cell_type": "code",
   "execution_count": 21,
   "id": "5fb7d3c2",
   "metadata": {},
   "outputs": [
    {
     "data": {
      "text/plain": [
       "array([[[  1,   2,   3],\n",
       "        [  4,   5,   6],\n",
       "        [  7,   8,   9]],\n",
       "\n",
       "       [[  9,  19,  29],\n",
       "        [ 39,  49,  59],\n",
       "        [ 69,  79,  89]],\n",
       "\n",
       "       [[ 98, 198, 298],\n",
       "        [398, 498, 598],\n",
       "        [698, 798, 898]]])"
      ]
     },
     "execution_count": 21,
     "metadata": {},
     "output_type": "execute_result"
    }
   ],
   "source": [
    "S = T1 - T2\n",
    "S\n",
    "\n",
    "#OR\n",
    "\n",
    "np.subtract(T1, T2)"
   ]
  },
  {
   "cell_type": "code",
   "execution_count": 22,
   "id": "61586845",
   "metadata": {},
   "outputs": [
    {
     "data": {
      "text/plain": [
       "array([[[   0,    0,    0],\n",
       "        [   0,    0,    0],\n",
       "        [   0,    0,    0]],\n",
       "\n",
       "       [[  10,   20,   30],\n",
       "        [  40,   50,   60],\n",
       "        [  70,   80,   90]],\n",
       "\n",
       "       [[ 200,  400,  600],\n",
       "        [ 800, 1000, 1200],\n",
       "        [1400, 1600, 1800]]])"
      ]
     },
     "execution_count": 22,
     "metadata": {},
     "output_type": "execute_result"
    }
   ],
   "source": [
    "P = T1 * T2\n",
    "P\n",
    "\n",
    "#OR\n",
    "\n",
    "np.multiply(T1, T2)"
   ]
  },
  {
   "cell_type": "code",
   "execution_count": 24,
   "id": "9e1dfcd3",
   "metadata": {},
   "outputs": [
    {
     "data": {
      "text/plain": [
       "array([[[ inf,  inf,  inf],\n",
       "        [ inf,  inf,  inf],\n",
       "        [ inf,  inf,  inf]],\n",
       "\n",
       "       [[ 10.,  20.,  30.],\n",
       "        [ 40.,  50.,  60.],\n",
       "        [ 70.,  80.,  90.]],\n",
       "\n",
       "       [[ 50., 100., 150.],\n",
       "        [200., 250., 300.],\n",
       "        [350., 400., 450.]]])"
      ]
     },
     "execution_count": 24,
     "metadata": {},
     "output_type": "execute_result"
    }
   ],
   "source": [
    "import warnings\n",
    "warnings.filterwarnings(\"ignore\")\n",
    "\n",
    "D = T1 / T2\n",
    "D\n",
    "\n",
    "#OR\n",
    "\n",
    "np.divide(T1, T2)"
   ]
  },
  {
   "cell_type": "code",
   "execution_count": 25,
   "id": "7d06345e",
   "metadata": {},
   "outputs": [
    {
     "data": {
      "text/plain": [
       "'\\nscipy.linalg, scipy.special, scipy.integrate, scipy.optimize, scipy.fftpack, scipy.signal, scipy.stats,\\nscipy.ndimage, scipy.io\\n\\n'"
      ]
     },
     "execution_count": 25,
     "metadata": {},
     "output_type": "execute_result"
    }
   ],
   "source": [
    "\"\"\"\n",
    "scipy.linalg, scipy.special, scipy.integrate, scipy.optimize, scipy.fftpack, scipy.signal, scipy.stats,\n",
    "scipy.ndimage, scipy.io\n",
    "\n",
    "\"\"\""
   ]
  },
  {
   "cell_type": "code",
   "execution_count": 29,
   "id": "3c3a5a0c",
   "metadata": {},
   "outputs": [
    {
     "name": "stdout",
     "output_type": "stream",
     "text": [
      "[[1 2]\n",
      " [3 4]]\n",
      "[[-2.   1. ]\n",
      " [ 1.5 -0.5]]\n"
     ]
    }
   ],
   "source": [
    "import numpy as np\n",
    "from scipy import linalg\n",
    "\n",
    "A = np.array([[1,2], [3,4]])\n",
    "print(A)\n",
    "\n",
    "B = linalg.inv(A)\n",
    "print(B)"
   ]
  },
  {
   "cell_type": "code",
   "execution_count": 27,
   "id": "6fcfee14",
   "metadata": {},
   "outputs": [
    {
     "name": "stdout",
     "output_type": "stream",
     "text": [
      "[[ 5  7  9]\n",
      " [ 6  8 10]]\n"
     ]
    }
   ],
   "source": [
    "b = np.array([[5,6], [7,8], [9,10]])\n",
    "print(b.T)"
   ]
  },
  {
   "cell_type": "code",
   "execution_count": 30,
   "id": "bacbc7be",
   "metadata": {},
   "outputs": [
    {
     "name": "stdout",
     "output_type": "stream",
     "text": [
      "[[-9.28]\n",
      " [ 5.16]\n",
      " [ 0.76]]\n",
      "[[-9.28]\n",
      " [ 5.16]\n",
      " [ 0.76]]\n"
     ]
    }
   ],
   "source": [
    "#Denklem takımlarının çözümü\n",
    "A = np.array([[1,3,5], [2,5,1], [2,3,8]])\n",
    "b = np.array([[10], [8], [3]])\n",
    "\n",
    "print(linalg.inv(A).dot(b))\n",
    "print(np.linalg.solve(A, b))"
   ]
  },
  {
   "cell_type": "code",
   "execution_count": 31,
   "id": "1b0e553a",
   "metadata": {},
   "outputs": [
    {
     "data": {
      "text/plain": [
       "array([[1, 2, 2],\n",
       "       [3, 5, 3],\n",
       "       [5, 1, 8]])"
      ]
     },
     "execution_count": 31,
     "metadata": {},
     "output_type": "execute_result"
    }
   ],
   "source": [
    "A.T"
   ]
  },
  {
   "cell_type": "code",
   "execution_count": 32,
   "id": "f36b43cc",
   "metadata": {},
   "outputs": [
    {
     "name": "stdout",
     "output_type": "stream",
     "text": [
      "(72.00000000000001, 7.993605777301129e-13)\n"
     ]
    }
   ],
   "source": [
    "from scipy import integrate\n",
    "x2 = lambda x : x**2\n",
    "I = integrate.quad(x2, 0, 6)\n",
    "print(I)"
   ]
  },
  {
   "cell_type": "code",
   "execution_count": 33,
   "id": "235afb5b",
   "metadata": {},
   "outputs": [
    {
     "name": "stdout",
     "output_type": "stream",
     "text": [
      "4.999999999921734\n"
     ]
    }
   ],
   "source": [
    "from scipy.misc import derivative\n",
    "def f(x):\n",
    "    return x**3 + x**2\n",
    "D = derivative(f, 1.0, dx = 1e-6)\n",
    "print(D)"
   ]
  },
  {
   "cell_type": "code",
   "execution_count": 34,
   "id": "5d003411",
   "metadata": {},
   "outputs": [],
   "source": [
    "import pandas as pd\n",
    "import numpy as np\n",
    "import matplotlib.pyplot as plt"
   ]
  },
  {
   "cell_type": "code",
   "execution_count": 35,
   "id": "355c323a",
   "metadata": {},
   "outputs": [
    {
     "data": {
      "text/plain": [
       "0    1\n",
       "1    2\n",
       "2    3\n",
       "3    4\n",
       "4    5\n",
       "5    6\n",
       "6    7\n",
       "dtype: int32"
      ]
     },
     "execution_count": 35,
     "metadata": {},
     "output_type": "execute_result"
    }
   ],
   "source": [
    "v = np.array([1,2,3,4,5,6,7])\n",
    "s1 = pd.Series(v)\n",
    "s1"
   ]
  },
  {
   "cell_type": "code",
   "execution_count": 36,
   "id": "f009a5c6",
   "metadata": {},
   "outputs": [
    {
     "data": {
      "text/plain": [
       "28"
      ]
     },
     "execution_count": 36,
     "metadata": {},
     "output_type": "execute_result"
    }
   ],
   "source": [
    "s1.nbytes"
   ]
  },
  {
   "cell_type": "code",
   "execution_count": 37,
   "id": "4790a84f",
   "metadata": {},
   "outputs": [
    {
     "data": {
      "text/plain": [
       "a    1\n",
       "b    2\n",
       "c    3\n",
       "dtype: int64"
      ]
     },
     "execution_count": 37,
     "metadata": {},
     "output_type": "execute_result"
    }
   ],
   "source": [
    "s0 = pd.Series([1,2,3], index = ['a', 'b', 'c'])\n",
    "s0"
   ]
  },
  {
   "cell_type": "code",
   "execution_count": 38,
   "id": "ed84c058",
   "metadata": {},
   "outputs": [
    {
     "data": {
      "text/plain": [
       "a    1\n",
       "b    2\n",
       "c    3\n",
       "d    4\n",
       "e    5\n",
       "f    6\n",
       "g    7\n",
       "dtype: int32"
      ]
     },
     "execution_count": 38,
     "metadata": {},
     "output_type": "execute_result"
    }
   ],
   "source": [
    "s1.index = ['a', 'b', 'c', 'd', 'e', 'f', 'g']\n",
    "s1"
   ]
  },
  {
   "cell_type": "code",
   "execution_count": 40,
   "id": "c9128340",
   "metadata": {},
   "outputs": [
    {
     "data": {
      "text/plain": [
       "(array([0.34099957, 0.68144592, 0.93974736, 0.23356136, 0.51381669,\n",
       "        0.93996815, 0.47586177, 0.89263563, 0.23437606, 0.77701155]),\n",
       " array([0, 1, 2, 3, 4, 5, 6, 7, 8, 9]),\n",
       " 0    0.341000\n",
       " 1    0.681446\n",
       " 2    0.939747\n",
       " 3    0.233561\n",
       " 4    0.513817\n",
       " 5    0.939968\n",
       " 6    0.475862\n",
       " 7    0.892636\n",
       " 8    0.234376\n",
       " 9    0.777012\n",
       " dtype: float64)"
      ]
     },
     "execution_count": 40,
     "metadata": {},
     "output_type": "execute_result"
    }
   ],
   "source": [
    "v2 = np.random.random(10)\n",
    "ind2 = np.arange(0, 10)\n",
    "s = pd.Series(v2, ind2)\n",
    "v2, ind2, s"
   ]
  },
  {
   "cell_type": "code",
   "execution_count": 41,
   "id": "0bb3e504",
   "metadata": {},
   "outputs": [
    {
     "data": {
      "text/plain": [
       "a1    10\n",
       "a2    20\n",
       "a3    30\n",
       "a4    40\n",
       "dtype: int64"
      ]
     },
     "execution_count": 41,
     "metadata": {},
     "output_type": "execute_result"
    }
   ],
   "source": [
    "dict1 = {'a1': 10, 'a2' : 20, 'a3' : 30, 'a4' : 40}\n",
    "s3 = pd.Series(dict1)\n",
    "s3"
   ]
  },
  {
   "cell_type": "code",
   "execution_count": 42,
   "id": "92491db8",
   "metadata": {},
   "outputs": [
    {
     "data": {
      "text/plain": [
       "0    99\n",
       "1    99\n",
       "2    99\n",
       "3    99\n",
       "4    99\n",
       "5    99\n",
       "dtype: int64"
      ]
     },
     "execution_count": 42,
     "metadata": {},
     "output_type": "execute_result"
    }
   ],
   "source": [
    "pd.Series(99, index = [0,1,2,3,4,5])"
   ]
  },
  {
   "cell_type": "code",
   "execution_count": 43,
   "id": "da5f6091",
   "metadata": {},
   "outputs": [
    {
     "data": {
      "text/plain": [
       "0    0.341000\n",
       "1    0.681446\n",
       "2    0.939747\n",
       "3    0.233561\n",
       "4    0.513817\n",
       "5    0.939968\n",
       "6    0.475862\n",
       "7    0.892636\n",
       "8    0.234376\n",
       "9    0.777012\n",
       "dtype: float64"
      ]
     },
     "execution_count": 43,
     "metadata": {},
     "output_type": "execute_result"
    }
   ],
   "source": [
    "s"
   ]
  },
  {
   "cell_type": "code",
   "execution_count": 44,
   "id": "8302c12a",
   "metadata": {},
   "outputs": [
    {
     "data": {
      "text/plain": [
       "0    0.341000\n",
       "1    0.681446\n",
       "2    0.939747\n",
       "3    0.233561\n",
       "4    0.513817\n",
       "5    0.939968\n",
       "6    0.475862\n",
       "7    0.892636\n",
       "8    0.234376\n",
       "9    0.777012\n",
       "dtype: float64"
      ]
     },
     "execution_count": 44,
     "metadata": {},
     "output_type": "execute_result"
    }
   ],
   "source": [
    "s[:]"
   ]
  },
  {
   "cell_type": "code",
   "execution_count": 45,
   "id": "d3d56cb9",
   "metadata": {},
   "outputs": [
    {
     "data": {
      "text/plain": [
       "0    0.341000\n",
       "1    0.681446\n",
       "2    0.939747\n",
       "dtype: float64"
      ]
     },
     "execution_count": 45,
     "metadata": {},
     "output_type": "execute_result"
    }
   ],
   "source": [
    "s[0:3]"
   ]
  },
  {
   "cell_type": "code",
   "execution_count": 46,
   "id": "3228aae5",
   "metadata": {},
   "outputs": [
    {
     "data": {
      "text/plain": [
       "9    0.777012\n",
       "dtype: float64"
      ]
     },
     "execution_count": 46,
     "metadata": {},
     "output_type": "execute_result"
    }
   ],
   "source": [
    "s[-1:]"
   ]
  },
  {
   "cell_type": "code",
   "execution_count": 47,
   "id": "5db6b66f",
   "metadata": {},
   "outputs": [
    {
     "data": {
      "text/plain": [
       "0    0.341000\n",
       "1    0.681446\n",
       "2    0.939747\n",
       "3    0.233561\n",
       "dtype: float64"
      ]
     },
     "execution_count": 47,
     "metadata": {},
     "output_type": "execute_result"
    }
   ],
   "source": [
    "s[:4]"
   ]
  },
  {
   "cell_type": "code",
   "execution_count": 48,
   "id": "d794972f",
   "metadata": {},
   "outputs": [
    {
     "data": {
      "text/plain": [
       "0    0.341000\n",
       "1    0.681446\n",
       "2    0.939747\n",
       "3    0.233561\n",
       "4    0.513817\n",
       "5    0.939968\n",
       "6    0.475862\n",
       "7    0.892636\n",
       "dtype: float64"
      ]
     },
     "execution_count": 48,
     "metadata": {},
     "output_type": "execute_result"
    }
   ],
   "source": [
    "s[:-2]"
   ]
  },
  {
   "cell_type": "code",
   "execution_count": 49,
   "id": "8b4886c2",
   "metadata": {},
   "outputs": [
    {
     "data": {
      "text/plain": [
       "8    0.234376\n",
       "9    0.777012\n",
       "dtype: float64"
      ]
     },
     "execution_count": 49,
     "metadata": {},
     "output_type": "execute_result"
    }
   ],
   "source": [
    "s[-2:]"
   ]
  },
  {
   "cell_type": "code",
   "execution_count": 50,
   "id": "29b99ed0",
   "metadata": {},
   "outputs": [
    {
     "data": {
      "text/plain": [
       "7    0.892636\n",
       "8    0.234376\n",
       "dtype: float64"
      ]
     },
     "execution_count": 50,
     "metadata": {},
     "output_type": "execute_result"
    }
   ],
   "source": [
    "s[-3:-1]"
   ]
  },
  {
   "cell_type": "code",
   "execution_count": 52,
   "id": "7a21d1f9",
   "metadata": {},
   "outputs": [
    {
     "data": {
      "text/plain": [
       "0    0.341000\n",
       "1    0.681446\n",
       "2    0.939747\n",
       "3    0.233561\n",
       "4    0.513817\n",
       "5    0.939968\n",
       "6    0.475862\n",
       "7    0.892636\n",
       "8    0.234376\n",
       "9    0.777012\n",
       "dtype: float64"
      ]
     },
     "execution_count": 52,
     "metadata": {},
     "output_type": "execute_result"
    }
   ],
   "source": [
    "s"
   ]
  },
  {
   "cell_type": "code",
   "execution_count": 51,
   "id": "5e5d6949",
   "metadata": {},
   "outputs": [],
   "source": [
    "#Serileri Birleştirme"
   ]
  },
  {
   "cell_type": "code",
   "execution_count": 53,
   "id": "965caaec",
   "metadata": {},
   "outputs": [
    {
     "data": {
      "text/plain": [
       "a    1\n",
       "b    2\n",
       "c    3\n",
       "d    4\n",
       "e    5\n",
       "f    6\n",
       "g    7\n",
       "dtype: int32"
      ]
     },
     "execution_count": 53,
     "metadata": {},
     "output_type": "execute_result"
    }
   ],
   "source": [
    "s2 = s1.copy()\n",
    "s2"
   ]
  },
  {
   "cell_type": "code",
   "execution_count": 54,
   "id": "a5e0ef92",
   "metadata": {},
   "outputs": [
    {
     "data": {
      "text/plain": [
       "a1    10\n",
       "a2    20\n",
       "a3    30\n",
       "a4    40\n",
       "dtype: int64"
      ]
     },
     "execution_count": 54,
     "metadata": {},
     "output_type": "execute_result"
    }
   ],
   "source": [
    "s3"
   ]
  },
  {
   "cell_type": "code",
   "execution_count": 55,
   "id": "89eb9ddb",
   "metadata": {},
   "outputs": [],
   "source": [
    "s4 = s2.append(s3)"
   ]
  },
  {
   "cell_type": "code",
   "execution_count": 56,
   "id": "d2fbd8eb",
   "metadata": {},
   "outputs": [
    {
     "data": {
      "text/plain": [
       "a      1\n",
       "b      2\n",
       "c      3\n",
       "d      4\n",
       "e      5\n",
       "f      6\n",
       "g      7\n",
       "a1    10\n",
       "a2    20\n",
       "a3    30\n",
       "a4    40\n",
       "dtype: int64"
      ]
     },
     "execution_count": 56,
     "metadata": {},
     "output_type": "execute_result"
    }
   ],
   "source": [
    "s4"
   ]
  },
  {
   "cell_type": "code",
   "execution_count": 57,
   "id": "50b1cdea",
   "metadata": {},
   "outputs": [
    {
     "data": {
      "text/plain": [
       "a      1\n",
       "b      2\n",
       "c      3\n",
       "d      4\n",
       "e      5\n",
       "f      6\n",
       "g      7\n",
       "a1    10\n",
       "a2    20\n",
       "a3    30\n",
       "dtype: int64"
      ]
     },
     "execution_count": 57,
     "metadata": {},
     "output_type": "execute_result"
    }
   ],
   "source": [
    "s4.drop('a4', inplace = False)"
   ]
  },
  {
   "cell_type": "code",
   "execution_count": 58,
   "id": "5193aacd",
   "metadata": {},
   "outputs": [
    {
     "data": {
      "text/plain": [
       "a      1\n",
       "b      2\n",
       "c      3\n",
       "d      4\n",
       "e      5\n",
       "f      6\n",
       "g      7\n",
       "a1    10\n",
       "a2    20\n",
       "a3    30\n",
       "a4    40\n",
       "dtype: int64"
      ]
     },
     "execution_count": 58,
     "metadata": {},
     "output_type": "execute_result"
    }
   ],
   "source": [
    "s4"
   ]
  },
  {
   "cell_type": "code",
   "execution_count": 59,
   "id": "84c1382a",
   "metadata": {},
   "outputs": [
    {
     "data": {
      "text/plain": [
       "a      1\n",
       "b      2\n",
       "c      3\n",
       "d      4\n",
       "e      5\n",
       "f      6\n",
       "g      7\n",
       "a1    10\n",
       "a2    20\n",
       "a3    30\n",
       "dtype: int64"
      ]
     },
     "execution_count": 59,
     "metadata": {},
     "output_type": "execute_result"
    }
   ],
   "source": [
    "s4.drop('a4', inplace = True)\n",
    "s4"
   ]
  },
  {
   "cell_type": "code",
   "execution_count": 60,
   "id": "f12eb189",
   "metadata": {},
   "outputs": [
    {
     "data": {
      "text/plain": [
       "a      1\n",
       "b      2\n",
       "c      3\n",
       "d      4\n",
       "e      5\n",
       "f      6\n",
       "g      7\n",
       "a1    10\n",
       "a2    20\n",
       "a3    30\n",
       "a4     7\n",
       "dtype: int64"
      ]
     },
     "execution_count": 60,
     "metadata": {},
     "output_type": "execute_result"
    }
   ],
   "source": [
    "s4 = s4.append(pd.Series({'a4' : 7}))\n",
    "s4"
   ]
  },
  {
   "cell_type": "code",
   "execution_count": 61,
   "id": "99987be1",
   "metadata": {},
   "outputs": [],
   "source": [
    "#Seri operasyonları"
   ]
  },
  {
   "cell_type": "code",
   "execution_count": 62,
   "id": "1daac2c4",
   "metadata": {},
   "outputs": [
    {
     "data": {
      "text/plain": [
       "(0    10\n",
       " 1    20\n",
       " 2    30\n",
       " dtype: int32,\n",
       " 0    1\n",
       " 1    2\n",
       " 2    3\n",
       " dtype: int32)"
      ]
     },
     "execution_count": 62,
     "metadata": {},
     "output_type": "execute_result"
    }
   ],
   "source": [
    "v1 = np.array([10,20,30])\n",
    "v2 = np.array([1,2,3])\n",
    "s1 = pd.Series(v1)\n",
    "s2 = pd.Series(v2)\n",
    "s1, s2"
   ]
  },
  {
   "cell_type": "code",
   "execution_count": 63,
   "id": "cd7835e4",
   "metadata": {},
   "outputs": [
    {
     "data": {
      "text/plain": [
       "0    11\n",
       "1    22\n",
       "2    33\n",
       "dtype: int32"
      ]
     },
     "execution_count": 63,
     "metadata": {},
     "output_type": "execute_result"
    }
   ],
   "source": [
    "s1.add(s2)"
   ]
  },
  {
   "cell_type": "code",
   "execution_count": 64,
   "id": "a5393092",
   "metadata": {},
   "outputs": [
    {
     "data": {
      "text/plain": [
       "0     9\n",
       "1    18\n",
       "2    27\n",
       "dtype: int32"
      ]
     },
     "execution_count": 64,
     "metadata": {},
     "output_type": "execute_result"
    }
   ],
   "source": [
    "s1.sub(s2)\n",
    "#OR\n",
    "s1.subtract(s2)"
   ]
  },
  {
   "cell_type": "code",
   "execution_count": 65,
   "id": "9048bc95",
   "metadata": {},
   "outputs": [
    {
     "data": {
      "text/plain": [
       "0    19\n",
       "1    29\n",
       "2    39\n",
       "dtype: int32"
      ]
     },
     "execution_count": 65,
     "metadata": {},
     "output_type": "execute_result"
    }
   ],
   "source": [
    "s1.add(9)"
   ]
  },
  {
   "cell_type": "code",
   "execution_count": 66,
   "id": "4ce88914",
   "metadata": {},
   "outputs": [
    {
     "data": {
      "text/plain": [
       "0    10\n",
       "1    40\n",
       "2    90\n",
       "dtype: int32"
      ]
     },
     "execution_count": 66,
     "metadata": {},
     "output_type": "execute_result"
    }
   ],
   "source": [
    "s1.mul(s2)\n",
    "#OR\n",
    "s1.multiply(s2)"
   ]
  },
  {
   "cell_type": "code",
   "execution_count": 67,
   "id": "ffdaebb9",
   "metadata": {},
   "outputs": [
    {
     "data": {
      "text/plain": [
       "0    10000\n",
       "1    20000\n",
       "2    30000\n",
       "dtype: int32"
      ]
     },
     "execution_count": 67,
     "metadata": {},
     "output_type": "execute_result"
    }
   ],
   "source": [
    "s1.multiply(1000)"
   ]
  },
  {
   "cell_type": "code",
   "execution_count": 68,
   "id": "b6fae50d",
   "metadata": {},
   "outputs": [
    {
     "data": {
      "text/plain": [
       "0    10.0\n",
       "1    10.0\n",
       "2    10.0\n",
       "dtype: float64"
      ]
     },
     "execution_count": 68,
     "metadata": {},
     "output_type": "execute_result"
    }
   ],
   "source": [
    "s1.divide(s2)"
   ]
  },
  {
   "cell_type": "code",
   "execution_count": 69,
   "id": "a3c1c05d",
   "metadata": {},
   "outputs": [
    {
     "data": {
      "text/plain": [
       "0    10.0\n",
       "1    10.0\n",
       "2    10.0\n",
       "dtype: float64"
      ]
     },
     "execution_count": 69,
     "metadata": {},
     "output_type": "execute_result"
    }
   ],
   "source": [
    "s1.div(s2)"
   ]
  },
  {
   "cell_type": "code",
   "execution_count": 70,
   "id": "146b0c87",
   "metadata": {},
   "outputs": [],
   "source": [
    "#max(), min(), mean(), median()"
   ]
  },
  {
   "cell_type": "code",
   "execution_count": 71,
   "id": "f7ffd534",
   "metadata": {},
   "outputs": [
    {
     "data": {
      "text/plain": [
       "10.0"
      ]
     },
     "execution_count": 71,
     "metadata": {},
     "output_type": "execute_result"
    }
   ],
   "source": [
    "s1.std()"
   ]
  },
  {
   "cell_type": "code",
   "execution_count": 72,
   "id": "81d87107",
   "metadata": {},
   "outputs": [
    {
     "data": {
      "text/plain": [
       "False"
      ]
     },
     "execution_count": 72,
     "metadata": {},
     "output_type": "execute_result"
    }
   ],
   "source": [
    "s1.equals(s2)"
   ]
  },
  {
   "cell_type": "code",
   "execution_count": 73,
   "id": "09431ea4",
   "metadata": {},
   "outputs": [
    {
     "data": {
      "text/plain": [
       "0    1\n",
       "1    1\n",
       "2    2\n",
       "3    2\n",
       "4    3\n",
       "5    3\n",
       "dtype: int64"
      ]
     },
     "execution_count": 73,
     "metadata": {},
     "output_type": "execute_result"
    }
   ],
   "source": [
    "s5 = pd.Series([1,1,2,2,3,3], index = [0,1,2,3,4,5])\n",
    "s5"
   ]
  },
  {
   "cell_type": "code",
   "execution_count": 74,
   "id": "08e150fd",
   "metadata": {},
   "outputs": [
    {
     "data": {
      "text/plain": [
       "1    2\n",
       "2    2\n",
       "3    2\n",
       "dtype: int64"
      ]
     },
     "execution_count": 74,
     "metadata": {},
     "output_type": "execute_result"
    }
   ],
   "source": [
    "s5.value_counts()"
   ]
  },
  {
   "cell_type": "code",
   "execution_count": 75,
   "id": "bff5e9e3",
   "metadata": {},
   "outputs": [],
   "source": [
    "#DataFrame (Veri Çerçevesi)"
   ]
  },
  {
   "cell_type": "code",
   "execution_count": 76,
   "id": "42bcb40a",
   "metadata": {},
   "outputs": [
    {
     "data": {
      "text/html": [
       "<div>\n",
       "<style scoped>\n",
       "    .dataframe tbody tr th:only-of-type {\n",
       "        vertical-align: middle;\n",
       "    }\n",
       "\n",
       "    .dataframe tbody tr th {\n",
       "        vertical-align: top;\n",
       "    }\n",
       "\n",
       "    .dataframe thead th {\n",
       "        text-align: right;\n",
       "    }\n",
       "</style>\n",
       "<table border=\"1\" class=\"dataframe\">\n",
       "  <thead>\n",
       "    <tr style=\"text-align: right;\">\n",
       "      <th></th>\n",
       "    </tr>\n",
       "  </thead>\n",
       "  <tbody>\n",
       "  </tbody>\n",
       "</table>\n",
       "</div>"
      ],
      "text/plain": [
       "Empty DataFrame\n",
       "Columns: []\n",
       "Index: []"
      ]
     },
     "execution_count": 76,
     "metadata": {},
     "output_type": "execute_result"
    }
   ],
   "source": [
    "df = pd.DataFrame()\n",
    "df"
   ]
  },
  {
   "cell_type": "code",
   "execution_count": 77,
   "id": "28027705",
   "metadata": {},
   "outputs": [
    {
     "data": {
      "text/html": [
       "<div>\n",
       "<style scoped>\n",
       "    .dataframe tbody tr th:only-of-type {\n",
       "        vertical-align: middle;\n",
       "    }\n",
       "\n",
       "    .dataframe tbody tr th {\n",
       "        vertical-align: top;\n",
       "    }\n",
       "\n",
       "    .dataframe thead th {\n",
       "        text-align: right;\n",
       "    }\n",
       "</style>\n",
       "<table border=\"1\" class=\"dataframe\">\n",
       "  <thead>\n",
       "    <tr style=\"text-align: right;\">\n",
       "      <th></th>\n",
       "      <th>0</th>\n",
       "    </tr>\n",
       "  </thead>\n",
       "  <tbody>\n",
       "    <tr>\n",
       "      <th>0</th>\n",
       "      <td>Java</td>\n",
       "    </tr>\n",
       "    <tr>\n",
       "      <th>1</th>\n",
       "      <td>Python</td>\n",
       "    </tr>\n",
       "    <tr>\n",
       "      <th>2</th>\n",
       "      <td>C</td>\n",
       "    </tr>\n",
       "    <tr>\n",
       "      <th>3</th>\n",
       "      <td>C++</td>\n",
       "    </tr>\n",
       "  </tbody>\n",
       "</table>\n",
       "</div>"
      ],
      "text/plain": [
       "        0\n",
       "0    Java\n",
       "1  Python\n",
       "2       C\n",
       "3     C++"
      ]
     },
     "execution_count": 77,
     "metadata": {},
     "output_type": "execute_result"
    }
   ],
   "source": [
    "lang = ['Java', 'Python', 'C', 'C++']\n",
    "df = pd.DataFrame(lang)\n",
    "df"
   ]
  },
  {
   "cell_type": "code",
   "execution_count": 78,
   "id": "43cc2481",
   "metadata": {},
   "outputs": [
    {
     "data": {
      "text/html": [
       "<div>\n",
       "<style scoped>\n",
       "    .dataframe tbody tr th:only-of-type {\n",
       "        vertical-align: middle;\n",
       "    }\n",
       "\n",
       "    .dataframe tbody tr th {\n",
       "        vertical-align: top;\n",
       "    }\n",
       "\n",
       "    .dataframe thead th {\n",
       "        text-align: right;\n",
       "    }\n",
       "</style>\n",
       "<table border=\"1\" class=\"dataframe\">\n",
       "  <thead>\n",
       "    <tr style=\"text-align: right;\">\n",
       "      <th></th>\n",
       "      <th>0</th>\n",
       "      <th>1</th>\n",
       "    </tr>\n",
       "  </thead>\n",
       "  <tbody>\n",
       "    <tr>\n",
       "      <th>0</th>\n",
       "      <td>Java</td>\n",
       "      <td>1</td>\n",
       "    </tr>\n",
       "    <tr>\n",
       "      <th>1</th>\n",
       "      <td>Python</td>\n",
       "      <td>2</td>\n",
       "    </tr>\n",
       "    <tr>\n",
       "      <th>2</th>\n",
       "      <td>C</td>\n",
       "      <td>3</td>\n",
       "    </tr>\n",
       "    <tr>\n",
       "      <th>3</th>\n",
       "      <td>C++</td>\n",
       "      <td>4</td>\n",
       "    </tr>\n",
       "  </tbody>\n",
       "</table>\n",
       "</div>"
      ],
      "text/plain": [
       "        0  1\n",
       "0    Java  1\n",
       "1  Python  2\n",
       "2       C  3\n",
       "3     C++  4"
      ]
     },
     "execution_count": 78,
     "metadata": {},
     "output_type": "execute_result"
    }
   ],
   "source": [
    "rating = [1,2,3,4]\n",
    "df[1] = rating\n",
    "df"
   ]
  },
  {
   "cell_type": "code",
   "execution_count": 79,
   "id": "c753c313",
   "metadata": {},
   "outputs": [],
   "source": [
    "df.columns = ['Language', 'Rating']"
   ]
  },
  {
   "cell_type": "code",
   "execution_count": 80,
   "id": "f4064d03",
   "metadata": {},
   "outputs": [
    {
     "data": {
      "text/html": [
       "<div>\n",
       "<style scoped>\n",
       "    .dataframe tbody tr th:only-of-type {\n",
       "        vertical-align: middle;\n",
       "    }\n",
       "\n",
       "    .dataframe tbody tr th {\n",
       "        vertical-align: top;\n",
       "    }\n",
       "\n",
       "    .dataframe thead th {\n",
       "        text-align: right;\n",
       "    }\n",
       "</style>\n",
       "<table border=\"1\" class=\"dataframe\">\n",
       "  <thead>\n",
       "    <tr style=\"text-align: right;\">\n",
       "      <th></th>\n",
       "      <th>Language</th>\n",
       "      <th>Rating</th>\n",
       "    </tr>\n",
       "  </thead>\n",
       "  <tbody>\n",
       "    <tr>\n",
       "      <th>0</th>\n",
       "      <td>Java</td>\n",
       "      <td>1</td>\n",
       "    </tr>\n",
       "    <tr>\n",
       "      <th>1</th>\n",
       "      <td>Python</td>\n",
       "      <td>2</td>\n",
       "    </tr>\n",
       "    <tr>\n",
       "      <th>2</th>\n",
       "      <td>C</td>\n",
       "      <td>3</td>\n",
       "    </tr>\n",
       "    <tr>\n",
       "      <th>3</th>\n",
       "      <td>C++</td>\n",
       "      <td>4</td>\n",
       "    </tr>\n",
       "  </tbody>\n",
       "</table>\n",
       "</div>"
      ],
      "text/plain": [
       "  Language  Rating\n",
       "0     Java       1\n",
       "1   Python       2\n",
       "2        C       3\n",
       "3      C++       4"
      ]
     },
     "execution_count": 80,
     "metadata": {},
     "output_type": "execute_result"
    }
   ],
   "source": [
    "df"
   ]
  },
  {
   "cell_type": "code",
   "execution_count": null,
   "id": "1b7a0d07",
   "metadata": {},
   "outputs": [],
   "source": []
  }
 ],
 "metadata": {
  "kernelspec": {
   "display_name": "Python 3",
   "language": "python",
   "name": "python3"
  },
  "language_info": {
   "codemirror_mode": {
    "name": "ipython",
    "version": 3
   },
   "file_extension": ".py",
   "mimetype": "text/x-python",
   "name": "python",
   "nbconvert_exporter": "python",
   "pygments_lexer": "ipython3",
   "version": "3.8.8"
  }
 },
 "nbformat": 4,
 "nbformat_minor": 5
}
